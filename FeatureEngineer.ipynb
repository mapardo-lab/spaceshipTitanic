{
 "cells": [
  {
   "cell_type": "markdown",
   "id": "c2720244-4959-4a39-889a-99071ccfac81",
   "metadata": {},
   "source": [
    "## Feature Engineering"
   ]
  },
  {
   "cell_type": "markdown",
   "id": "44e7a92f-7f87-4344-9282-c414e84ab2cd",
   "metadata": {},
   "source": [
    "### Environment setting "
   ]
  },
  {
   "cell_type": "code",
   "execution_count": 2,
   "id": "35ea4aad-7c3e-4169-932d-d7844ef60819",
   "metadata": {},
   "outputs": [],
   "source": [
    "import pandas as pd\n",
    "import numpy as np\n",
    "import itertools\n",
    "from sklearn.compose import ColumnTransformer\n",
    "from sklearn.pipeline import Pipeline\n",
    "from sklearn.impute import SimpleImputer\n",
    "from sklearn.preprocessing import StandardScaler, OneHotEncoder\n",
    "from sklearn.model_selection import GridSearchCV\n",
    "from sklearn.neighbors import KNeighborsClassifier\n",
    "from sklearn.linear_model import RidgeClassifier\n",
    "from sklearn.ensemble import RandomForestClassifier\n",
    "from sklearn.tree import DecisionTreeClassifier\n",
    "from sklearn.svm import SVC"
   ]
  },
  {
   "cell_type": "markdown",
   "id": "7e317a5c-5282-4570-865d-e3bc9fcb3834",
   "metadata": {},
   "source": [
    "### Load data"
   ]
  },
  {
   "cell_type": "code",
   "execution_count": 3,
   "id": "8f67f3f1-117d-4e1f-8690-8b500e27410b",
   "metadata": {},
   "outputs": [],
   "source": [
    "# load data\n",
    "df_train = pd.read_csv('data/train.csv')"
   ]
  },
  {
   "cell_type": "markdown",
   "id": "1e6b36d0-bf29-42c7-adae-05488048f754",
   "metadata": {},
   "source": [
    "### Split 'Cabin' feature"
   ]
  },
  {
   "cell_type": "code",
   "execution_count": 4,
   "id": "c5dd9aaf-6648-4722-9ffb-c9a9d4fa88e0",
   "metadata": {},
   "outputs": [],
   "source": [
    "# split Cabin feature (takes the form deck/num/side, where side can be either P for Port or S for Starboard)\n",
    "df_train[['Deck','Num','Side']] = df_train['Cabin'].str.split('/', expand = True)"
   ]
  },
  {
   "cell_type": "markdown",
   "id": "ab829dfc-e8db-4fc2-b24f-f406249d7691",
   "metadata": {},
   "source": [
    "### Imputation"
   ]
  },
  {
   "cell_type": "code",
   "execution_count": 5,
   "id": "605e55a9-f54b-4780-a302-e746006b83ce",
   "metadata": {},
   "outputs": [],
   "source": [
    "# impute expenses by CryoSleep and Age\n",
    "expenses_features = ['RoomService', 'FoodCourt', 'ShoppingMall', 'Spa', 'VRDeck']\n",
    "df_train.loc[df_train['CryoSleep'] == True, expenses_features] = 0\n",
    "df_train.loc[df_train['Age'] < 13, expenses_features] = 0"
   ]
  },
  {
   "cell_type": "code",
   "execution_count": 6,
   "id": "63f6cb5a-cc39-445c-94fc-b0e6333683cc",
   "metadata": {},
   "outputs": [],
   "source": [
    "# simple imputation\n",
    "# Age, expenses --> median\n",
    "# VIP, Deck, Destination, HomePlanet, CryoSleep, Side --> mode\n",
    "\n",
    "# Define columns\n",
    "num_features = ['Age'] + expenses_features\n",
    "cat_features = ['VIP', 'Destination', 'HomePlanet', 'CryoSleep', 'Deck', 'Side']\n",
    "\n",
    "# Create imputation pipelines\n",
    "num_imputer = SimpleImputer(strategy='median')\n",
    "cat_imputer = SimpleImputer(strategy='most_frequent')\n",
    "\n",
    "preprocessor = ColumnTransformer(\n",
    "    transformers=[\n",
    "        ('num', num_imputer, num_features),\n",
    "        ('cat', cat_imputer, cat_features)\n",
    "    ])\n",
    "\n",
    "preprocessor.fit(df_train)\n",
    "\n",
    "# Apply to DataFrame\n",
    "df_train[num_features + cat_features] = pd.DataFrame(\n",
    "    preprocessor.transform(df_train),\n",
    "    columns=num_features + cat_features\n",
    ")"
   ]
  },
  {
   "cell_type": "code",
   "execution_count": 7,
   "id": "63f84d02-b8a2-4796-becc-da35cf1aad91",
   "metadata": {},
   "outputs": [],
   "source": [
    "# calculate TotalExpenses\n",
    "df_train['TotalExpenses'] = df_train[expenses_features].sum(axis=1)"
   ]
  },
  {
   "cell_type": "code",
   "execution_count": 8,
   "id": "5d4a8721-418c-480d-b55f-99203bf9a265",
   "metadata": {},
   "outputs": [],
   "source": [
    "# numerical standarization\n",
    "# TODO Transform log10 expenses features\n",
    "num_features = ['Age'] + expenses_features + ['TotalExpenses']\n",
    "scaler_num = StandardScaler()\n",
    "scaler_num.fit(df_train[num_features])\n",
    "df_train[num_features] = scaler_num.transform(df_train[num_features])"
   ]
  },
  {
   "cell_type": "code",
   "execution_count": 9,
   "id": "5f937c3b-83fd-412e-8fc2-41c54cd2e27e",
   "metadata": {},
   "outputs": [
    {
     "data": {
      "text/html": [
       "<div>\n",
       "<style scoped>\n",
       "    .dataframe tbody tr th:only-of-type {\n",
       "        vertical-align: middle;\n",
       "    }\n",
       "\n",
       "    .dataframe tbody tr th {\n",
       "        vertical-align: top;\n",
       "    }\n",
       "\n",
       "    .dataframe thead th {\n",
       "        text-align: right;\n",
       "    }\n",
       "</style>\n",
       "<table border=\"1\" class=\"dataframe\">\n",
       "  <thead>\n",
       "    <tr style=\"text-align: right;\">\n",
       "      <th></th>\n",
       "      <th>PassengerId</th>\n",
       "      <th>HomePlanet</th>\n",
       "      <th>CryoSleep</th>\n",
       "      <th>Cabin</th>\n",
       "      <th>Destination</th>\n",
       "      <th>Age</th>\n",
       "      <th>VIP</th>\n",
       "      <th>RoomService</th>\n",
       "      <th>FoodCourt</th>\n",
       "      <th>ShoppingMall</th>\n",
       "      <th>Spa</th>\n",
       "      <th>VRDeck</th>\n",
       "      <th>Name</th>\n",
       "      <th>Transported</th>\n",
       "      <th>Deck</th>\n",
       "      <th>Num</th>\n",
       "      <th>Side</th>\n",
       "      <th>TotalExpenses</th>\n",
       "    </tr>\n",
       "  </thead>\n",
       "  <tbody>\n",
       "    <tr>\n",
       "      <th>0</th>\n",
       "      <td>0001_01</td>\n",
       "      <td>Europa</td>\n",
       "      <td>False</td>\n",
       "      <td>B/0/P</td>\n",
       "      <td>TRAPPIST-1e</td>\n",
       "      <td>0.711945</td>\n",
       "      <td>False</td>\n",
       "      <td>-0.333105</td>\n",
       "      <td>-0.281027</td>\n",
       "      <td>-0.283579</td>\n",
       "      <td>-0.270626</td>\n",
       "      <td>-0.263003</td>\n",
       "      <td>Maham Ofracculy</td>\n",
       "      <td>False</td>\n",
       "      <td>B</td>\n",
       "      <td>0</td>\n",
       "      <td>P</td>\n",
       "      <td>-0.514066</td>\n",
       "    </tr>\n",
       "    <tr>\n",
       "      <th>1</th>\n",
       "      <td>0002_01</td>\n",
       "      <td>Earth</td>\n",
       "      <td>False</td>\n",
       "      <td>F/0/S</td>\n",
       "      <td>TRAPPIST-1e</td>\n",
       "      <td>-0.334037</td>\n",
       "      <td>False</td>\n",
       "      <td>-0.168073</td>\n",
       "      <td>-0.275387</td>\n",
       "      <td>-0.241771</td>\n",
       "      <td>0.217158</td>\n",
       "      <td>-0.224205</td>\n",
       "      <td>Juanna Vines</td>\n",
       "      <td>True</td>\n",
       "      <td>F</td>\n",
       "      <td>0</td>\n",
       "      <td>S</td>\n",
       "      <td>-0.251479</td>\n",
       "    </tr>\n",
       "    <tr>\n",
       "      <th>2</th>\n",
       "      <td>0003_01</td>\n",
       "      <td>Europa</td>\n",
       "      <td>False</td>\n",
       "      <td>A/0/S</td>\n",
       "      <td>TRAPPIST-1e</td>\n",
       "      <td>2.036857</td>\n",
       "      <td>True</td>\n",
       "      <td>-0.268001</td>\n",
       "      <td>1.959998</td>\n",
       "      <td>-0.283579</td>\n",
       "      <td>5.695623</td>\n",
       "      <td>-0.219796</td>\n",
       "      <td>Altark Susent</td>\n",
       "      <td>False</td>\n",
       "      <td>A</td>\n",
       "      <td>0</td>\n",
       "      <td>S</td>\n",
       "      <td>3.190333</td>\n",
       "    </tr>\n",
       "    <tr>\n",
       "      <th>3</th>\n",
       "      <td>0003_02</td>\n",
       "      <td>Europa</td>\n",
       "      <td>False</td>\n",
       "      <td>A/0/S</td>\n",
       "      <td>TRAPPIST-1e</td>\n",
       "      <td>0.293552</td>\n",
       "      <td>False</td>\n",
       "      <td>-0.333105</td>\n",
       "      <td>0.523010</td>\n",
       "      <td>0.336851</td>\n",
       "      <td>2.687176</td>\n",
       "      <td>-0.092818</td>\n",
       "      <td>Solam Susent</td>\n",
       "      <td>False</td>\n",
       "      <td>A</td>\n",
       "      <td>0</td>\n",
       "      <td>S</td>\n",
       "      <td>1.332604</td>\n",
       "    </tr>\n",
       "    <tr>\n",
       "      <th>4</th>\n",
       "      <td>0004_01</td>\n",
       "      <td>Earth</td>\n",
       "      <td>False</td>\n",
       "      <td>F/1/S</td>\n",
       "      <td>TRAPPIST-1e</td>\n",
       "      <td>-0.891895</td>\n",
       "      <td>False</td>\n",
       "      <td>0.125652</td>\n",
       "      <td>-0.237159</td>\n",
       "      <td>-0.031059</td>\n",
       "      <td>0.231374</td>\n",
       "      <td>-0.261240</td>\n",
       "      <td>Willy Santantines</td>\n",
       "      <td>True</td>\n",
       "      <td>F</td>\n",
       "      <td>1</td>\n",
       "      <td>S</td>\n",
       "      <td>-0.124824</td>\n",
       "    </tr>\n",
       "  </tbody>\n",
       "</table>\n",
       "</div>"
      ],
      "text/plain": [
       "  PassengerId HomePlanet CryoSleep  Cabin  Destination       Age    VIP  \\\n",
       "0     0001_01     Europa     False  B/0/P  TRAPPIST-1e  0.711945  False   \n",
       "1     0002_01      Earth     False  F/0/S  TRAPPIST-1e -0.334037  False   \n",
       "2     0003_01     Europa     False  A/0/S  TRAPPIST-1e  2.036857   True   \n",
       "3     0003_02     Europa     False  A/0/S  TRAPPIST-1e  0.293552  False   \n",
       "4     0004_01      Earth     False  F/1/S  TRAPPIST-1e -0.891895  False   \n",
       "\n",
       "   RoomService  FoodCourt  ShoppingMall       Spa    VRDeck  \\\n",
       "0    -0.333105  -0.281027     -0.283579 -0.270626 -0.263003   \n",
       "1    -0.168073  -0.275387     -0.241771  0.217158 -0.224205   \n",
       "2    -0.268001   1.959998     -0.283579  5.695623 -0.219796   \n",
       "3    -0.333105   0.523010      0.336851  2.687176 -0.092818   \n",
       "4     0.125652  -0.237159     -0.031059  0.231374 -0.261240   \n",
       "\n",
       "                Name  Transported Deck Num Side  TotalExpenses  \n",
       "0    Maham Ofracculy        False    B   0    P      -0.514066  \n",
       "1       Juanna Vines         True    F   0    S      -0.251479  \n",
       "2      Altark Susent        False    A   0    S       3.190333  \n",
       "3       Solam Susent        False    A   0    S       1.332604  \n",
       "4  Willy Santantines         True    F   1    S      -0.124824  "
      ]
     },
     "execution_count": 9,
     "metadata": {},
     "output_type": "execute_result"
    }
   ],
   "source": [
    "df_train.head()"
   ]
  },
  {
   "cell_type": "code",
   "execution_count": 10,
   "id": "fb1f8867-aed3-4f41-99fd-6eaacf945a56",
   "metadata": {},
   "outputs": [],
   "source": [
    "# categorical encoding\n",
    "cat_features = ['VIP', 'Destination', 'HomePlanet', 'CryoSleep', 'Deck', 'Side']\n",
    "encoder = OneHotEncoder(sparse_output=False, handle_unknown='ignore', drop='if_binary')\n",
    "\n",
    "encoder.fit(df_train[cat_features])\n",
    "encoded_data = encoder.transform(df_train[cat_features])\n",
    "\n",
    "features_onehot = encoder.get_feature_names_out(cat_features)\n",
    "\n",
    "df_encoded = pd.DataFrame(encoded_data, columns=features_onehot)\n",
    "df_train = pd.concat([df_train, df_encoded], axis = 1)"
   ]
  },
  {
   "cell_type": "code",
   "execution_count": null,
   "id": "f3e75985-c014-475b-a506-44663871f39c",
   "metadata": {},
   "outputs": [],
   "source": [
    "# TODO New feature Age < 12 TRUE\n",
    "# TODO New feature log10(RoomService) < 1 TRUE\n",
    "# TODO Same for Spa, VRDeck and TotalExpenses\n",
    "# TODO Save features into cache file"
   ]
  },
  {
   "cell_type": "code",
   "execution_count": 12,
   "id": "0bc33c82-405c-4c29-b9ca-758134e5505f",
   "metadata": {},
   "outputs": [],
   "source": [
    "# column for not B, C, E, F in Decj feature\n",
    "df_train['Deck_notBCEF'] = df_train[['Deck_A','Deck_D','Deck_G','Deck_T']].sum(axis=1)"
   ]
  },
  {
   "cell_type": "code",
   "execution_count": 11,
   "id": "e40d9375-1f86-48c7-874f-cd44639d9205",
   "metadata": {},
   "outputs": [],
   "source": [
    "# TODO Video Imputation Kaggle\n",
    "# TODO 1. TotalExpenses vs expenses features / all vs sel\n",
    "# TODO 2. Deck B / Deck feature: B, C, E, F + Others"
   ]
  }
 ],
 "metadata": {
  "kernelspec": {
   "display_name": "Python 3 (ipykernel)",
   "language": "python",
   "name": "python3"
  },
  "language_info": {
   "codemirror_mode": {
    "name": "ipython",
    "version": 3
   },
   "file_extension": ".py",
   "mimetype": "text/x-python",
   "name": "python",
   "nbconvert_exporter": "python",
   "pygments_lexer": "ipython3",
   "version": "3.10.18"
  }
 },
 "nbformat": 4,
 "nbformat_minor": 5
}
