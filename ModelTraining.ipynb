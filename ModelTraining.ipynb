{
 "cells": [
  {
   "cell_type": "code",
   "execution_count": null,
   "id": "1d654e01-e82f-4c5a-9a25-bfbda2c2052a",
   "metadata": {},
   "outputs": [],
   "source": []
  },
  {
   "cell_type": "code",
   "execution_count": 33,
   "id": "6925a94c-602e-41a4-a715-f271d01eb765",
   "metadata": {},
   "outputs": [],
   "source": [
    "# features for Room Type One Hot Encoding \n",
    "expenses_features = ['RoomService', 'FoodCourt', 'ShoppingMall', 'Spa', 'VRDeck']\n",
    "sel_features_cat = list(filter(lambda x: any(map(lambda y: y in x,['CryoSleep','HomePlanet', 'Destination'])), features_onehot))\n",
    "features_onehot_wo_deck = list(filter(lambda x: 'Deck' not in x,list(features_onehot)))\n",
    "onehot_deck_all = list(filter(lambda x: any(map(lambda y: y in x,['Deck'])), features_onehot))\n",
    "onehot_deckB = list(filter(lambda x: ('Deck' not in x) or (x == 'Deck_B'), features_onehot))\n",
    "onehot_deckBCEF = ['Deck_B','Deck_C','Deck_E','Deck_F','Deck_notBCEF']\n",
    "\n",
    "# All features (drop Num and Name) [expenses features/total expenses] \n",
    "all_features_expenses = ['Age'] + expenses_features + list(features_onehot) \n",
    "all_features_totalexpenses = ['Age', 'TotalExpenses'] + list(features_onehot)\n",
    "# Selection CryoSleep, HomePlanet, Deck, Destination, expenses features [expenses features/total expenses]\n",
    "sel_features_expenses = expenses_features + sel_features_cat\n",
    "sel_features_totalexpenses = ['TotalExpenses'] + sel_features_cat\n",
    "\n",
    "# combinations of features to check \n",
    "#dataproc = [all_features_expenses, all_features_totalexpenses, sel_features_expenses, sel_features_totalexpenses]\n",
    "dataproc = {'all_expenses': all_features_expenses, 'all_totalexpenses': all_features_totalexpenses, \n",
    "             'sel_expenses': sel_features_expenses, 'sel_totalexpenses': sel_features_totalexpenses}"
   ]
  },
  {
   "cell_type": "code",
   "execution_count": 16,
   "id": "f043a482-5c6a-4342-bcc1-0946704de44b",
   "metadata": {},
   "outputs": [],
   "source": [
    "X_train = df_train.drop('Transported', axis=1)\n",
    "y_train = df_train['Transported']"
   ]
  },
  {
   "cell_type": "code",
   "execution_count": 29,
   "id": "ec149ebd-aff6-4b7d-96d8-ba13c26b5f24",
   "metadata": {},
   "outputs": [],
   "source": [
    "# combinations of model to check (algorithm + parameters)\n",
    "experiments = {\n",
    "    'model': ['KNN', 'Ridge', 'DecisionTree', 'BaggingRidge', 'RandomForest']\n",
    "    'algorithms': [KNeighborsClassifier(), RidgeClassifier(), \n",
    "                    DecisionTreeClassifier(criterion='gini'),\n",
    "                    BaggingClassifier(estimator=RidgeClassifier())\n",
    "                    RandomForestClassifier()],\n",
    "    'parameters': [{'n_neighbors': [8, 10, 12, 14], 'weights': ['uniform', 'distance']},\n",
    "                    {'alpha': [1.0]},\n",
    "                    {'max_depth': [5, 10, 15], 'min_samples_split': [2, 5, 10], 'min_samples_leaf': [1, 2, 4], splitter['best', 'random']},\n",
    "                    {'n_estimators': [10, 30, 50], 'max_features': [1.0, 0.7, 0.5], 'max_samples': [1.0, 0.9, 0.8]}\n",
    "                    {'n_estimators': [50, 100, 200], 'max_depth': [5, 10, 15], 'min_samples_split': [2, 5, 10], 'min_samples_leaf': [1, 2, 4]}\n",
    "                  ]\n",
    "}\n",
    "\n",
    "#experiments = {\n",
    "#    'algorithms': [KNeighborsClassifier(), RidgeClassifier()],\n",
    "#    'parameters': [{'n_neighbors': [14, 18], 'weights': ['uniform', 'distance']},\n",
    "#                    {'alpha': [1.0]}\n",
    "#                  ]\n",
    "#}\n",
    "#experiments = {\n",
    "#    'model': ['KNN', 'Ridge'],\n",
    "#    'algorithm': [KNeighborsClassifier(), RidgeClassifier()],\n",
    "#    'parameters': [{'n_neighbors': [14, 18], 'weights': ['uniform', 'distance']},\n",
    "#                    {'alpha': [1.0]}\n",
    "#                  ]\n",
    "#}\n",
    "# run experiments: features + algorithm + parameters\n",
    "results = []\n",
    "for dp, features in dataproc.items():\n",
    "    X_train_sel = X_train[features]    \n",
    "    #for index, algorithm in enumerate(experiments['algorithms']):\n",
    "    for index, model in enumerate(experiments['model']):\n",
    "        params = experiments['parameters'][index]\n",
    "        algorithm = experiments['algorithm'][index]\n",
    "        grid = GridSearchCV(algorithm, param_grid = params, cv = 5, \n",
    "                            scoring= 'accuracy', return_train_score = True)\n",
    "        grid.fit(X_train_sel, y_train)\n",
    "\n",
    "        lst = list(grid.get_params()['param_grid'].values())\n",
    "        #for params, mse in zip(itertools.product(*lst),grid.cv_results_['mean_test_score']):\n",
    "        for params, test_score, train_score, fit_time in zip(itertools.product(*lst),\n",
    "                                                   grid.cv_results_['mean_test_score'], \n",
    "                                                   grid.cv_results_['mean_train_score'],\n",
    "                                                   grid.cv_results_['mean_fit_time']):\n",
    "            params_dict = {param: value for param, value in zip(grid.get_params()['param_grid'].keys(), params)}\n",
    "            result = {'feature_name': dp,'features': features, 'model': model, 'parameters': params_dict,\n",
    "                  'train_score': train_score, 'test_score': test_score, 'fit_time': fit_time}\n",
    "            results.append(result)\n"
   ]
  },
  {
   "cell_type": "code",
   "execution_count": 32,
   "id": "9868a2f5-8e9f-462f-a1f2-489c0dbf8def",
   "metadata": {},
   "outputs": [
    {
     "data": {
      "text/html": [
       "<div>\n",
       "<style scoped>\n",
       "    .dataframe tbody tr th:only-of-type {\n",
       "        vertical-align: middle;\n",
       "    }\n",
       "\n",
       "    .dataframe tbody tr th {\n",
       "        vertical-align: top;\n",
       "    }\n",
       "\n",
       "    .dataframe thead th {\n",
       "        text-align: right;\n",
       "    }\n",
       "</style>\n",
       "<table border=\"1\" class=\"dataframe\">\n",
       "  <thead>\n",
       "    <tr style=\"text-align: right;\">\n",
       "      <th></th>\n",
       "      <th>feature_name</th>\n",
       "      <th>model</th>\n",
       "      <th>parameters</th>\n",
       "      <th>train_score</th>\n",
       "      <th>test_score</th>\n",
       "      <th>fit_time</th>\n",
       "    </tr>\n",
       "  </thead>\n",
       "  <tbody>\n",
       "    <tr>\n",
       "      <th>2</th>\n",
       "      <td>all_expenses</td>\n",
       "      <td>KNN</td>\n",
       "      <td>{'n_neighbors': 18, 'weights': 'uniform'}</td>\n",
       "      <td>0.808754</td>\n",
       "      <td>0.780285</td>\n",
       "      <td>0.004548</td>\n",
       "    </tr>\n",
       "    <tr>\n",
       "      <th>4</th>\n",
       "      <td>all_expenses</td>\n",
       "      <td>Ridge</td>\n",
       "      <td>{'alpha': 1.0}</td>\n",
       "      <td>0.769642</td>\n",
       "      <td>0.767745</td>\n",
       "      <td>0.007219</td>\n",
       "    </tr>\n",
       "  </tbody>\n",
       "</table>\n",
       "</div>"
      ],
      "text/plain": [
       "   feature_name  model                                 parameters  \\\n",
       "2  all_expenses    KNN  {'n_neighbors': 18, 'weights': 'uniform'}   \n",
       "4  all_expenses  Ridge                             {'alpha': 1.0}   \n",
       "\n",
       "   train_score  test_score  fit_time  \n",
       "2     0.808754    0.780285  0.004548  \n",
       "4     0.769642    0.767745  0.007219  "
      ]
     },
     "execution_count": 32,
     "metadata": {},
     "output_type": "execute_result"
    }
   ],
   "source": [
    "pd.DataFrame(results).drop(['features'],axis=1)\n",
    "max_indices = pd.DataFrame(results).drop(['features'],axis=1).groupby('model')['test_score'].idxmax()\n",
    "pd.DataFrame(results).drop(['features'],axis=1).loc[max_indices]\n"
   ]
  },
  {
   "cell_type": "code",
   "execution_count": 57,
   "id": "4d66d7cd-8b7c-4a2a-8fd7-0213900b5191",
   "metadata": {},
   "outputs": [
    {
     "name": "stdout",
     "output_type": "stream",
     "text": [
      "features: ['RoomService', 'FoodCourt', 'ShoppingMall', 'Spa', 'VRDeck', 'Destination_55 Cancri e', 'Destination_PSO J318.5-22', 'Destination_TRAPPIST-1e', 'HomePlanet_Earth', 'HomePlanet_Europa', 'HomePlanet_Mars', 'CryoSleep_True']\n",
      "algorithm: DecisionTreeClassifier(splitter='random')\n",
      "parameters: {'max_depth': 10, 'min_samples_split': 2, 'min_samples_leaf': 4}\n",
      "acc_val: 0.7839655609383592\n"
     ]
    }
   ],
   "source": [
    "best_model = pd.DataFrame(results).sort_values('acc_val', ascending=False).iloc[0,:].to_dict()\n",
    "for key, value in best_model.items():\n",
    "    print(f'{key}: {value}')"
   ]
  }
 ],
 "metadata": {
  "kernelspec": {
   "display_name": "Python 3 (ipykernel)",
   "language": "python",
   "name": "python3"
  },
  "language_info": {
   "codemirror_mode": {
    "name": "ipython",
    "version": 3
   },
   "file_extension": ".py",
   "mimetype": "text/x-python",
   "name": "python",
   "nbconvert_exporter": "python",
   "pygments_lexer": "ipython3",
   "version": "3.10.18"
  }
 },
 "nbformat": 4,
 "nbformat_minor": 5
}
