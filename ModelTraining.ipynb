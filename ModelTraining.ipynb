{
 "cells": [
  {
   "cell_type": "markdown",
   "id": "99c76fa1-7137-49a1-a220-989dadf118b4",
   "metadata": {},
   "source": [
    "## Model Training"
   ]
  },
  {
   "cell_type": "markdown",
   "id": "6b37b73b-6855-4902-94a7-2a3a45091f67",
   "metadata": {},
   "source": [
    "### Environment setting"
   ]
  },
  {
   "cell_type": "code",
   "execution_count": 17,
   "id": "7eff44ec-53bd-48b4-9df6-bdc5a5d5525a",
   "metadata": {},
   "outputs": [],
   "source": [
    "import pickle\n",
    "import os\n",
    "import itertools\n",
    "import pandas as pd\n",
    "import numpy as np\n",
    "from sklearn.preprocessing import LabelEncoder\n",
    "from sklearn.metrics import classification_report\n",
    "from sklearn.model_selection import GridSearchCV\n",
    "from sklearn.neighbors import KNeighborsClassifier\n",
    "from sklearn.linear_model import RidgeClassifier\n",
    "from sklearn.ensemble import RandomForestClassifier, GradientBoostingClassifier\n",
    "from sklearn.tree import DecisionTreeClassifier\n",
    "from sklearn.svm import SVC\n",
    "from utilsML import run_experiments, expand_parameters, time_gridsearch, constrained_combinations"
   ]
  },
  {
   "cell_type": "markdown",
   "id": "19e25037-c9db-49f7-9362-a40f1f6c67e4",
   "metadata": {},
   "source": [
    "### Read processed data"
   ]
  },
  {
   "cell_type": "code",
   "execution_count": 18,
   "id": "1d654e01-e82f-4c5a-9a25-bfbda2c2052a",
   "metadata": {},
   "outputs": [
    {
     "name": "stdout",
     "output_type": "stream",
     "text": [
      "Read preprocessed data from cache file: procData.pkl\n"
     ]
    }
   ],
   "source": [
    "cache_file = \"procData.pkl\"\n",
    "cache_dir = \"cache\"\n",
    "try:\n",
    "    with open(os.path.join(cache_dir, cache_file), \"rb\") as f:\n",
    "        cache_data = pickle.load(f)\n",
    "    print(\"Read preprocessed data from cache file:\", cache_file)\n",
    "except:\n",
    "    pass"
   ]
  },
  {
   "cell_type": "code",
   "execution_count": 19,
   "id": "6997f009-7190-4222-ae99-056aea068d9d",
   "metadata": {
    "scrolled": true
   },
   "outputs": [
    {
     "data": {
      "text/html": [
       "<div>\n",
       "<style scoped>\n",
       "    .dataframe tbody tr th:only-of-type {\n",
       "        vertical-align: middle;\n",
       "    }\n",
       "\n",
       "    .dataframe tbody tr th {\n",
       "        vertical-align: top;\n",
       "    }\n",
       "\n",
       "    .dataframe thead th {\n",
       "        text-align: right;\n",
       "    }\n",
       "</style>\n",
       "<table border=\"1\" class=\"dataframe\">\n",
       "  <thead>\n",
       "    <tr style=\"text-align: right;\">\n",
       "      <th></th>\n",
       "      <th>0</th>\n",
       "      <th>1</th>\n",
       "      <th>2</th>\n",
       "      <th>3</th>\n",
       "      <th>4</th>\n",
       "    </tr>\n",
       "  </thead>\n",
       "  <tbody>\n",
       "    <tr>\n",
       "      <th>PassengerId</th>\n",
       "      <td>0001_01</td>\n",
       "      <td>0002_01</td>\n",
       "      <td>0003_01</td>\n",
       "      <td>0003_02</td>\n",
       "      <td>0004_01</td>\n",
       "    </tr>\n",
       "    <tr>\n",
       "      <th>HomePlanet</th>\n",
       "      <td>Europa</td>\n",
       "      <td>Earth</td>\n",
       "      <td>Europa</td>\n",
       "      <td>Europa</td>\n",
       "      <td>Earth</td>\n",
       "    </tr>\n",
       "    <tr>\n",
       "      <th>CryoSleep</th>\n",
       "      <td>False</td>\n",
       "      <td>False</td>\n",
       "      <td>False</td>\n",
       "      <td>False</td>\n",
       "      <td>False</td>\n",
       "    </tr>\n",
       "    <tr>\n",
       "      <th>Cabin</th>\n",
       "      <td>B/0/P</td>\n",
       "      <td>F/0/S</td>\n",
       "      <td>A/0/S</td>\n",
       "      <td>A/0/S</td>\n",
       "      <td>F/1/S</td>\n",
       "    </tr>\n",
       "    <tr>\n",
       "      <th>Destination</th>\n",
       "      <td>TRAPPIST-1e</td>\n",
       "      <td>TRAPPIST-1e</td>\n",
       "      <td>TRAPPIST-1e</td>\n",
       "      <td>TRAPPIST-1e</td>\n",
       "      <td>TRAPPIST-1e</td>\n",
       "    </tr>\n",
       "    <tr>\n",
       "      <th>Age</th>\n",
       "      <td>0.711945</td>\n",
       "      <td>-0.334037</td>\n",
       "      <td>2.036857</td>\n",
       "      <td>0.293552</td>\n",
       "      <td>-0.891895</td>\n",
       "    </tr>\n",
       "    <tr>\n",
       "      <th>VIP</th>\n",
       "      <td>False</td>\n",
       "      <td>False</td>\n",
       "      <td>True</td>\n",
       "      <td>False</td>\n",
       "      <td>False</td>\n",
       "    </tr>\n",
       "    <tr>\n",
       "      <th>RoomService</th>\n",
       "      <td>-0.333105</td>\n",
       "      <td>-0.168073</td>\n",
       "      <td>-0.268001</td>\n",
       "      <td>-0.333105</td>\n",
       "      <td>0.125652</td>\n",
       "    </tr>\n",
       "    <tr>\n",
       "      <th>FoodCourt</th>\n",
       "      <td>-0.281027</td>\n",
       "      <td>-0.275387</td>\n",
       "      <td>1.959998</td>\n",
       "      <td>0.52301</td>\n",
       "      <td>-0.237159</td>\n",
       "    </tr>\n",
       "    <tr>\n",
       "      <th>ShoppingMall</th>\n",
       "      <td>-0.283579</td>\n",
       "      <td>-0.241771</td>\n",
       "      <td>-0.283579</td>\n",
       "      <td>0.336851</td>\n",
       "      <td>-0.031059</td>\n",
       "    </tr>\n",
       "    <tr>\n",
       "      <th>Spa</th>\n",
       "      <td>-0.270626</td>\n",
       "      <td>0.217158</td>\n",
       "      <td>5.695623</td>\n",
       "      <td>2.687176</td>\n",
       "      <td>0.231374</td>\n",
       "    </tr>\n",
       "    <tr>\n",
       "      <th>VRDeck</th>\n",
       "      <td>-0.263003</td>\n",
       "      <td>-0.224205</td>\n",
       "      <td>-0.219796</td>\n",
       "      <td>-0.092818</td>\n",
       "      <td>-0.26124</td>\n",
       "    </tr>\n",
       "    <tr>\n",
       "      <th>Name</th>\n",
       "      <td>Maham Ofracculy</td>\n",
       "      <td>Juanna Vines</td>\n",
       "      <td>Altark Susent</td>\n",
       "      <td>Solam Susent</td>\n",
       "      <td>Willy Santantines</td>\n",
       "    </tr>\n",
       "    <tr>\n",
       "      <th>Transported</th>\n",
       "      <td>False</td>\n",
       "      <td>True</td>\n",
       "      <td>False</td>\n",
       "      <td>False</td>\n",
       "      <td>True</td>\n",
       "    </tr>\n",
       "    <tr>\n",
       "      <th>Deck</th>\n",
       "      <td>B</td>\n",
       "      <td>F</td>\n",
       "      <td>A</td>\n",
       "      <td>A</td>\n",
       "      <td>F</td>\n",
       "    </tr>\n",
       "    <tr>\n",
       "      <th>Num</th>\n",
       "      <td>0</td>\n",
       "      <td>0</td>\n",
       "      <td>0</td>\n",
       "      <td>0</td>\n",
       "      <td>1</td>\n",
       "    </tr>\n",
       "    <tr>\n",
       "      <th>Side</th>\n",
       "      <td>P</td>\n",
       "      <td>S</td>\n",
       "      <td>S</td>\n",
       "      <td>S</td>\n",
       "      <td>S</td>\n",
       "    </tr>\n",
       "    <tr>\n",
       "      <th>Age12</th>\n",
       "      <td>0.0</td>\n",
       "      <td>0.0</td>\n",
       "      <td>0.0</td>\n",
       "      <td>0.0</td>\n",
       "      <td>0.0</td>\n",
       "    </tr>\n",
       "    <tr>\n",
       "      <th>TotalExpenses</th>\n",
       "      <td>0.0</td>\n",
       "      <td>736.0</td>\n",
       "      <td>10383.0</td>\n",
       "      <td>5176.0</td>\n",
       "      <td>1091.0</td>\n",
       "    </tr>\n",
       "    <tr>\n",
       "      <th>log10_RoomService</th>\n",
       "      <td>-0.638181</td>\n",
       "      <td>1.090491</td>\n",
       "      <td>0.753511</td>\n",
       "      <td>-0.638181</td>\n",
       "      <td>1.464342</td>\n",
       "    </tr>\n",
       "    <tr>\n",
       "      <th>log10_FoodCourt</th>\n",
       "      <td>-0.65008</td>\n",
       "      <td>0.13504</td>\n",
       "      <td>2.139858</td>\n",
       "      <td>1.790516</td>\n",
       "      <td>0.80338</td>\n",
       "    </tr>\n",
       "    <tr>\n",
       "      <th>log10_ShoppingMall</th>\n",
       "      <td>-0.622995</td>\n",
       "      <td>0.646081</td>\n",
       "      <td>-0.622995</td>\n",
       "      <td>1.6825</td>\n",
       "      <td>1.333879</td>\n",
       "    </tr>\n",
       "    <tr>\n",
       "      <th>log10_Spa</th>\n",
       "      <td>-0.664035</td>\n",
       "      <td>1.614565</td>\n",
       "      <td>2.518191</td>\n",
       "      <td>2.264863</td>\n",
       "      <td>1.62492</td>\n",
       "    </tr>\n",
       "    <tr>\n",
       "      <th>log10_VRDeck</th>\n",
       "      <td>-0.640034</td>\n",
       "      <td>0.745894</td>\n",
       "      <td>0.784254</td>\n",
       "      <td>1.277886</td>\n",
       "      <td>-0.240051</td>\n",
       "    </tr>\n",
       "    <tr>\n",
       "      <th>log10_TotalExpenses</th>\n",
       "      <td>-1.152845</td>\n",
       "      <td>0.636892</td>\n",
       "      <td>1.353979</td>\n",
       "      <td>1.165307</td>\n",
       "      <td>0.743469</td>\n",
       "    </tr>\n",
       "    <tr>\n",
       "      <th>log10_RoomService1</th>\n",
       "      <td>1.0</td>\n",
       "      <td>0.0</td>\n",
       "      <td>0.0</td>\n",
       "      <td>1.0</td>\n",
       "      <td>0.0</td>\n",
       "    </tr>\n",
       "    <tr>\n",
       "      <th>log10_FoodCourt1</th>\n",
       "      <td>1.0</td>\n",
       "      <td>0.0</td>\n",
       "      <td>0.0</td>\n",
       "      <td>0.0</td>\n",
       "      <td>0.0</td>\n",
       "    </tr>\n",
       "    <tr>\n",
       "      <th>log10_ShoppingMall1</th>\n",
       "      <td>1.0</td>\n",
       "      <td>0.0</td>\n",
       "      <td>1.0</td>\n",
       "      <td>0.0</td>\n",
       "      <td>0.0</td>\n",
       "    </tr>\n",
       "    <tr>\n",
       "      <th>log10_Spa1</th>\n",
       "      <td>1.0</td>\n",
       "      <td>0.0</td>\n",
       "      <td>0.0</td>\n",
       "      <td>0.0</td>\n",
       "      <td>0.0</td>\n",
       "    </tr>\n",
       "    <tr>\n",
       "      <th>log10_VRDeck1</th>\n",
       "      <td>1.0</td>\n",
       "      <td>0.0</td>\n",
       "      <td>0.0</td>\n",
       "      <td>0.0</td>\n",
       "      <td>1.0</td>\n",
       "    </tr>\n",
       "    <tr>\n",
       "      <th>log10_TotalExpenses1</th>\n",
       "      <td>1.0</td>\n",
       "      <td>0.0</td>\n",
       "      <td>0.0</td>\n",
       "      <td>0.0</td>\n",
       "      <td>0.0</td>\n",
       "    </tr>\n",
       "    <tr>\n",
       "      <th>VIP_True</th>\n",
       "      <td>0.0</td>\n",
       "      <td>0.0</td>\n",
       "      <td>1.0</td>\n",
       "      <td>0.0</td>\n",
       "      <td>0.0</td>\n",
       "    </tr>\n",
       "    <tr>\n",
       "      <th>Destination_55 Cancri e</th>\n",
       "      <td>0.0</td>\n",
       "      <td>0.0</td>\n",
       "      <td>0.0</td>\n",
       "      <td>0.0</td>\n",
       "      <td>0.0</td>\n",
       "    </tr>\n",
       "    <tr>\n",
       "      <th>Destination_PSO J318.5-22</th>\n",
       "      <td>0.0</td>\n",
       "      <td>0.0</td>\n",
       "      <td>0.0</td>\n",
       "      <td>0.0</td>\n",
       "      <td>0.0</td>\n",
       "    </tr>\n",
       "    <tr>\n",
       "      <th>Destination_TRAPPIST-1e</th>\n",
       "      <td>1.0</td>\n",
       "      <td>1.0</td>\n",
       "      <td>1.0</td>\n",
       "      <td>1.0</td>\n",
       "      <td>1.0</td>\n",
       "    </tr>\n",
       "    <tr>\n",
       "      <th>HomePlanet_Earth</th>\n",
       "      <td>0.0</td>\n",
       "      <td>1.0</td>\n",
       "      <td>0.0</td>\n",
       "      <td>0.0</td>\n",
       "      <td>1.0</td>\n",
       "    </tr>\n",
       "    <tr>\n",
       "      <th>HomePlanet_Europa</th>\n",
       "      <td>1.0</td>\n",
       "      <td>0.0</td>\n",
       "      <td>1.0</td>\n",
       "      <td>1.0</td>\n",
       "      <td>0.0</td>\n",
       "    </tr>\n",
       "    <tr>\n",
       "      <th>HomePlanet_Mars</th>\n",
       "      <td>0.0</td>\n",
       "      <td>0.0</td>\n",
       "      <td>0.0</td>\n",
       "      <td>0.0</td>\n",
       "      <td>0.0</td>\n",
       "    </tr>\n",
       "    <tr>\n",
       "      <th>CryoSleep_True</th>\n",
       "      <td>0.0</td>\n",
       "      <td>0.0</td>\n",
       "      <td>0.0</td>\n",
       "      <td>0.0</td>\n",
       "      <td>0.0</td>\n",
       "    </tr>\n",
       "    <tr>\n",
       "      <th>Deck_A</th>\n",
       "      <td>0.0</td>\n",
       "      <td>0.0</td>\n",
       "      <td>1.0</td>\n",
       "      <td>1.0</td>\n",
       "      <td>0.0</td>\n",
       "    </tr>\n",
       "    <tr>\n",
       "      <th>Deck_B</th>\n",
       "      <td>1.0</td>\n",
       "      <td>0.0</td>\n",
       "      <td>0.0</td>\n",
       "      <td>0.0</td>\n",
       "      <td>0.0</td>\n",
       "    </tr>\n",
       "    <tr>\n",
       "      <th>Deck_C</th>\n",
       "      <td>0.0</td>\n",
       "      <td>0.0</td>\n",
       "      <td>0.0</td>\n",
       "      <td>0.0</td>\n",
       "      <td>0.0</td>\n",
       "    </tr>\n",
       "    <tr>\n",
       "      <th>Deck_D</th>\n",
       "      <td>0.0</td>\n",
       "      <td>0.0</td>\n",
       "      <td>0.0</td>\n",
       "      <td>0.0</td>\n",
       "      <td>0.0</td>\n",
       "    </tr>\n",
       "    <tr>\n",
       "      <th>Deck_E</th>\n",
       "      <td>0.0</td>\n",
       "      <td>0.0</td>\n",
       "      <td>0.0</td>\n",
       "      <td>0.0</td>\n",
       "      <td>0.0</td>\n",
       "    </tr>\n",
       "    <tr>\n",
       "      <th>Deck_F</th>\n",
       "      <td>0.0</td>\n",
       "      <td>1.0</td>\n",
       "      <td>0.0</td>\n",
       "      <td>0.0</td>\n",
       "      <td>1.0</td>\n",
       "    </tr>\n",
       "    <tr>\n",
       "      <th>Deck_G</th>\n",
       "      <td>0.0</td>\n",
       "      <td>0.0</td>\n",
       "      <td>0.0</td>\n",
       "      <td>0.0</td>\n",
       "      <td>0.0</td>\n",
       "    </tr>\n",
       "    <tr>\n",
       "      <th>Deck_T</th>\n",
       "      <td>0.0</td>\n",
       "      <td>0.0</td>\n",
       "      <td>0.0</td>\n",
       "      <td>0.0</td>\n",
       "      <td>0.0</td>\n",
       "    </tr>\n",
       "    <tr>\n",
       "      <th>Side_S</th>\n",
       "      <td>0.0</td>\n",
       "      <td>1.0</td>\n",
       "      <td>1.0</td>\n",
       "      <td>1.0</td>\n",
       "      <td>1.0</td>\n",
       "    </tr>\n",
       "  </tbody>\n",
       "</table>\n",
       "</div>"
      ],
      "text/plain": [
       "                                         0             1              2  \\\n",
       "PassengerId                        0001_01       0002_01        0003_01   \n",
       "HomePlanet                          Europa         Earth         Europa   \n",
       "CryoSleep                            False         False          False   \n",
       "Cabin                                B/0/P         F/0/S          A/0/S   \n",
       "Destination                    TRAPPIST-1e   TRAPPIST-1e    TRAPPIST-1e   \n",
       "Age                               0.711945     -0.334037       2.036857   \n",
       "VIP                                  False         False           True   \n",
       "RoomService                      -0.333105     -0.168073      -0.268001   \n",
       "FoodCourt                        -0.281027     -0.275387       1.959998   \n",
       "ShoppingMall                     -0.283579     -0.241771      -0.283579   \n",
       "Spa                              -0.270626      0.217158       5.695623   \n",
       "VRDeck                           -0.263003     -0.224205      -0.219796   \n",
       "Name                       Maham Ofracculy  Juanna Vines  Altark Susent   \n",
       "Transported                          False          True          False   \n",
       "Deck                                     B             F              A   \n",
       "Num                                      0             0              0   \n",
       "Side                                     P             S              S   \n",
       "Age12                                  0.0           0.0            0.0   \n",
       "TotalExpenses                          0.0         736.0        10383.0   \n",
       "log10_RoomService                -0.638181      1.090491       0.753511   \n",
       "log10_FoodCourt                   -0.65008       0.13504       2.139858   \n",
       "log10_ShoppingMall               -0.622995      0.646081      -0.622995   \n",
       "log10_Spa                        -0.664035      1.614565       2.518191   \n",
       "log10_VRDeck                     -0.640034      0.745894       0.784254   \n",
       "log10_TotalExpenses              -1.152845      0.636892       1.353979   \n",
       "log10_RoomService1                     1.0           0.0            0.0   \n",
       "log10_FoodCourt1                       1.0           0.0            0.0   \n",
       "log10_ShoppingMall1                    1.0           0.0            1.0   \n",
       "log10_Spa1                             1.0           0.0            0.0   \n",
       "log10_VRDeck1                          1.0           0.0            0.0   \n",
       "log10_TotalExpenses1                   1.0           0.0            0.0   \n",
       "VIP_True                               0.0           0.0            1.0   \n",
       "Destination_55 Cancri e                0.0           0.0            0.0   \n",
       "Destination_PSO J318.5-22              0.0           0.0            0.0   \n",
       "Destination_TRAPPIST-1e                1.0           1.0            1.0   \n",
       "HomePlanet_Earth                       0.0           1.0            0.0   \n",
       "HomePlanet_Europa                      1.0           0.0            1.0   \n",
       "HomePlanet_Mars                        0.0           0.0            0.0   \n",
       "CryoSleep_True                         0.0           0.0            0.0   \n",
       "Deck_A                                 0.0           0.0            1.0   \n",
       "Deck_B                                 1.0           0.0            0.0   \n",
       "Deck_C                                 0.0           0.0            0.0   \n",
       "Deck_D                                 0.0           0.0            0.0   \n",
       "Deck_E                                 0.0           0.0            0.0   \n",
       "Deck_F                                 0.0           1.0            0.0   \n",
       "Deck_G                                 0.0           0.0            0.0   \n",
       "Deck_T                                 0.0           0.0            0.0   \n",
       "Side_S                                 0.0           1.0            1.0   \n",
       "\n",
       "                                      3                  4  \n",
       "PassengerId                     0003_02            0004_01  \n",
       "HomePlanet                       Europa              Earth  \n",
       "CryoSleep                         False              False  \n",
       "Cabin                             A/0/S              F/1/S  \n",
       "Destination                 TRAPPIST-1e        TRAPPIST-1e  \n",
       "Age                            0.293552          -0.891895  \n",
       "VIP                               False              False  \n",
       "RoomService                   -0.333105           0.125652  \n",
       "FoodCourt                       0.52301          -0.237159  \n",
       "ShoppingMall                   0.336851          -0.031059  \n",
       "Spa                            2.687176           0.231374  \n",
       "VRDeck                        -0.092818           -0.26124  \n",
       "Name                       Solam Susent  Willy Santantines  \n",
       "Transported                       False               True  \n",
       "Deck                                  A                  F  \n",
       "Num                                   0                  1  \n",
       "Side                                  S                  S  \n",
       "Age12                               0.0                0.0  \n",
       "TotalExpenses                    5176.0             1091.0  \n",
       "log10_RoomService             -0.638181           1.464342  \n",
       "log10_FoodCourt                1.790516            0.80338  \n",
       "log10_ShoppingMall               1.6825           1.333879  \n",
       "log10_Spa                      2.264863            1.62492  \n",
       "log10_VRDeck                   1.277886          -0.240051  \n",
       "log10_TotalExpenses            1.165307           0.743469  \n",
       "log10_RoomService1                  1.0                0.0  \n",
       "log10_FoodCourt1                    0.0                0.0  \n",
       "log10_ShoppingMall1                 0.0                0.0  \n",
       "log10_Spa1                          0.0                0.0  \n",
       "log10_VRDeck1                       0.0                1.0  \n",
       "log10_TotalExpenses1                0.0                0.0  \n",
       "VIP_True                            0.0                0.0  \n",
       "Destination_55 Cancri e             0.0                0.0  \n",
       "Destination_PSO J318.5-22           0.0                0.0  \n",
       "Destination_TRAPPIST-1e             1.0                1.0  \n",
       "HomePlanet_Earth                    0.0                1.0  \n",
       "HomePlanet_Europa                   1.0                0.0  \n",
       "HomePlanet_Mars                     0.0                0.0  \n",
       "CryoSleep_True                      0.0                0.0  \n",
       "Deck_A                              1.0                0.0  \n",
       "Deck_B                              0.0                0.0  \n",
       "Deck_C                              0.0                0.0  \n",
       "Deck_D                              0.0                0.0  \n",
       "Deck_E                              0.0                0.0  \n",
       "Deck_F                              0.0                1.0  \n",
       "Deck_G                              0.0                0.0  \n",
       "Deck_T                              0.0                0.0  \n",
       "Side_S                              1.0                1.0  "
      ]
     },
     "execution_count": 19,
     "metadata": {},
     "output_type": "execute_result"
    }
   ],
   "source": [
    "df_train = cache_data['proc_data']\n",
    "df_train.head(5).T"
   ]
  },
  {
   "cell_type": "code",
   "execution_count": 20,
   "id": "f043a482-5c6a-4342-bcc1-0946704de44b",
   "metadata": {},
   "outputs": [],
   "source": [
    "X_train = df_train.drop('Transported', axis=1)\n",
    "y_train = df_train['Transported']"
   ]
  },
  {
   "cell_type": "markdown",
   "id": "92996a2f-600b-4af8-b196-f8313c92e9c1",
   "metadata": {},
   "source": [
    "### Basic initial models"
   ]
  },
  {
   "cell_type": "markdown",
   "id": "0a67b857-2c58-41d9-b755-f72aa6285abc",
   "metadata": {},
   "source": [
    "Initially, we will evaluate two basic models, each relying on a single predictor variable strongly linked to the target: 'CryoSleep' and 'log10TotalExpenses1'. Predictions are made directly from these inputs and metrics for the classification are calculated."
   ]
  },
  {
   "cell_type": "markdown",
   "id": "6de12005-65c3-4cf3-a6d0-571059cbfa33",
   "metadata": {},
   "source": [
    "#### 'CryoSleep' feature"
   ]
  },
  {
   "cell_type": "markdown",
   "id": "d0ef5b3d-0b1e-4c64-9d99-46b9dadb88ce",
   "metadata": {},
   "source": [
    "This 'model' achieves an accuracy of 0.72"
   ]
  },
  {
   "cell_type": "code",
   "execution_count": 5,
   "id": "75f7b737-7508-47a3-a200-c9492c4ace49",
   "metadata": {},
   "outputs": [
    {
     "name": "stdout",
     "output_type": "stream",
     "text": [
      "CryoSleep    False  True \n",
      "Transported              \n",
      "False         3761    554\n",
      "True          1895   2483\n",
      "              precision    recall  f1-score   support\n",
      "\n",
      "           0       0.66      0.87      0.75      4315\n",
      "           1       0.82      0.57      0.67      4378\n",
      "\n",
      "    accuracy                           0.72      8693\n",
      "   macro avg       0.74      0.72      0.71      8693\n",
      "weighted avg       0.74      0.72      0.71      8693\n",
      "\n"
     ]
    }
   ],
   "source": [
    "le = LabelEncoder()\n",
    "y_true = le.fit_transform(df_train['Transported'])  \n",
    "y_pred = le.fit_transform(df_train['CryoSleep'])   \n",
    "\n",
    "print(pd.crosstab(df_train['Transported'], df_train['CryoSleep']))\n",
    "print(classification_report(y_true, y_pred))"
   ]
  },
  {
   "cell_type": "markdown",
   "id": "4385315a-65fe-4019-bcc6-8505e5e9239d",
   "metadata": {},
   "source": [
    "#### 'log10_TotalExpenses1' feature"
   ]
  },
  {
   "cell_type": "markdown",
   "id": "f70a356f-f201-43a1-9076-6ff885f663d3",
   "metadata": {},
   "source": [
    "This 'model' uses a feature calculated from 'TotalExpenses' feature. Samples are classified into two groups based on whether the log10 of the TotalExpenses variable is greater than or less than 1. This 'model' achieves an accuracy of 0.74."
   ]
  },
  {
   "cell_type": "code",
   "execution_count": 6,
   "id": "f8e52939-9bf6-43eb-81c8-59248abebb4c",
   "metadata": {},
   "outputs": [
    {
     "ename": "NameError",
     "evalue": "name 'df' is not defined",
     "output_type": "error",
     "traceback": [
      "\u001b[0;31m---------------------------------------------------------------------------\u001b[0m",
      "\u001b[0;31mNameError\u001b[0m                                 Traceback (most recent call last)",
      "Cell \u001b[0;32mIn[6], line 5\u001b[0m\n\u001b[1;32m      2\u001b[0m y_true \u001b[38;5;241m=\u001b[39m le\u001b[38;5;241m.\u001b[39mfit_transform(df_train[\u001b[38;5;124m'\u001b[39m\u001b[38;5;124mTransported\u001b[39m\u001b[38;5;124m'\u001b[39m])  \n\u001b[1;32m      3\u001b[0m y_pred \u001b[38;5;241m=\u001b[39m le\u001b[38;5;241m.\u001b[39mfit_transform(df_train[\u001b[38;5;124m'\u001b[39m\u001b[38;5;124mlog10_TotalExpenses1\u001b[39m\u001b[38;5;124m'\u001b[39m])   \n\u001b[0;32m----> 5\u001b[0m \u001b[38;5;28mprint\u001b[39m(pd\u001b[38;5;241m.\u001b[39mcrosstab(\u001b[43mdf\u001b[49m[\u001b[38;5;124m'\u001b[39m\u001b[38;5;124mTransported\u001b[39m\u001b[38;5;124m'\u001b[39m], df_train[\u001b[38;5;124m'\u001b[39m\u001b[38;5;124mlog10_TotalExpenses1\u001b[39m\u001b[38;5;124m'\u001b[39m]))\n\u001b[1;32m      6\u001b[0m \u001b[38;5;28mprint\u001b[39m(classification_report(y_true, y_pred))\n",
      "\u001b[0;31mNameError\u001b[0m: name 'df' is not defined"
     ]
    }
   ],
   "source": [
    "le = LabelEncoder()\n",
    "y_true = le.fit_transform(df_train['Transported'])  \n",
    "y_pred = le.fit_transform(df_train['log10_TotalExpenses1'])   \n",
    "\n",
    "print(pd.crosstab(df['Transported'], df_train['log10_TotalExpenses1']))\n",
    "print(classification_report(y_true, y_pred))"
   ]
  },
  {
   "cell_type": "markdown",
   "id": "30abb0bd-40de-4399-89f0-f27602cecec4",
   "metadata": {},
   "source": [
    "### Decision trees models"
   ]
  },
  {
   "cell_type": "markdown",
   "id": "11ab9879-d504-4515-a97d-b9be1427d7fd",
   "metadata": {},
   "source": [
    "Feature combinations to test are chosen according to the EDA findings."
   ]
  },
  {
   "cell_type": "code",
   "execution_count": null,
   "id": "7522a5dc-c2af-4719-b628-c5426ee22687",
   "metadata": {},
   "outputs": [],
   "source": [
    "onehot_homeplanet = (list(filter(lambda x: any(map(lambda y: y in x,['HomePlanet_'])), df_train.columns)))\n",
    "main_homeplanet = list(filter(lambda x: any(map(lambda y: y not in x, ['Mars'])),onehot_homeplanet))\n",
    "onehot_destination = (list(filter(lambda x: any(map(lambda y: y in x,['Destination_'])), df_train.columns)))\n",
    "main_destination = list(filter(lambda x: any(map(lambda y: y not in x, ['PSO'])),onehot_destination))\n",
    "expenses_features = ['RoomService', 'FoodCourt', 'ShoppingMall', 'Spa', 'VRDeck']\n",
    "log10_expenses_features = ['log10_RoomService', 'log10_FoodCourt', 'log10_ShoppingMall', 'log10_Spa', 'log10_VRDeck']\n",
    "log10_expenses_features1 = ['log10_RoomService1', 'log10_FoodCourt1', 'log10_ShoppingMall1', 'log10_Spa1', 'log10_VRDeck1']\n",
    "\n",
    "cryosleepAge12 = ['CryoSleep_True','Age12','Deck_B','Side_S'] + main_homeplanet + main_destination\n",
    "log10TE = ['log10_TotalExpenses','Deck_B','Side_S'] + main_homeplanet + main_destination\n",
    "log10TE1 = ['log10_TotalExpenses1','Deck_B','Side_S'] + main_homeplanet + main_destination\n",
    "expenses = expenses_features + ['Deck_B','Side_S'] + main_homeplanet + main_destination\n",
    "log10Expenses = log10_expenses_features + ['Deck_B','Side_S'] + main_homeplanet + main_destination\n",
    "log10Expenses1 = log10_expenses_features1 + ['Deck_B','Side_S'] + main_homeplanet + main_destination"
   ]
  },
  {
   "cell_type": "markdown",
   "id": "1bf73d87-edf7-4f30-98dd-0f7a67d8da53",
   "metadata": {},
   "source": [
    "The 'max_depth' hyperparameter is tested with various values, using all the feature combinations described above."
   ]
  },
  {
   "cell_type": "code",
   "execution_count": null,
   "id": "8a0f25d9-5c67-4fe9-8eb3-6d038434d7df",
   "metadata": {},
   "outputs": [],
   "source": [
    "# combinations of model to check (algorithm + parameters)\n",
    "dataproc = {'cryosleepAge12': cryosleepAge12, 'log10TE': log10TE, 'log10TE1': log10TE1, \n",
    "            'expenses': expenses, 'log10Expenses': log10Expenses, 'log10Expenses1': log10Expenses1} \n",
    "experiments = {\n",
    "    'model': ['DecisionTree'],\n",
    "    'algorithms': [DecisionTreeClassifier(criterion='gini')],\n",
    "    'parameters': [{'max_depth': np.arange(2, 15)}]\n",
    "}\n",
    "results = run_experiments(dataproc, experiments, X_train, y_train)"
   ]
  },
  {
   "cell_type": "markdown",
   "id": "812ba944-0b0b-4959-a0ad-bc1bf1e429b1",
   "metadata": {},
   "source": [
    "The highest performance is achieved with the 'expenses', 'log10Expenses', and 'log10Expenses1' datasets."
   ]
  },
  {
   "cell_type": "code",
   "execution_count": null,
   "id": "89db1905-6bcc-4e93-bc2a-311d095d3a3c",
   "metadata": {},
   "outputs": [],
   "source": [
    "max_indices = pd.DataFrame(results).drop(['features'],axis=1).groupby('feature_name')['test_score'].idxmax()\n",
    "df_max = pd.DataFrame(results).drop(['features'],axis=1).loc[max_indices]\n",
    "expand_parameters(df_max)"
   ]
  },
  {
   "cell_type": "markdown",
   "id": "9a456aaf-a9b0-48bc-bc12-1398212ba161",
   "metadata": {},
   "source": [
    "It is reduced to the allowed range of values for 'max_depth' and tested with the hyperparameters 'min_samples_leaf', 'min_samples_split', and 'splitter'."
   ]
  },
  {
   "cell_type": "code",
   "execution_count": null,
   "id": "08b03947-886d-4d02-90db-65156527b56d",
   "metadata": {},
   "outputs": [],
   "source": [
    "# combinations of model to check (algorithm + parameters)\n",
    "dataproc = {'cryosleepAge12': cryosleepAge12, 'log10TE': log10TE, 'log10TE1': log10TE1, \n",
    "            'expenses': expenses, 'log10Expenses': log10Expenses, 'log10Expenses1': log10Expenses1} \n",
    "experiments = {\n",
    "    'model': ['DecisionTree'],\n",
    "    'algorithms': [DecisionTreeClassifier(criterion='gini')],\n",
    "    'parameters': [{'max_depth': np.arange(2, 8),\n",
    "                    'min_samples_leaf': np.arange(2,10),\n",
    "                    'min_samples_split': np.arange(2,10),\n",
    "                    'splitter': ['best','random']}]\n",
    "}\n",
    "results = run_experiments(dataproc, experiments, X_train, y_train)"
   ]
  },
  {
   "cell_type": "markdown",
   "id": "da8b52d0-b3cf-44bc-990a-5c2e973e37b0",
   "metadata": {},
   "source": [
    "When optimization of more hyperparameters is allowed, better score values are achieved. The best values still appear for the feature sets 'expenses', 'log10Expenses', and 'log10Expenses1'."
   ]
  },
  {
   "cell_type": "code",
   "execution_count": null,
   "id": "21280313-a391-4f1d-8837-63b975a314fc",
   "metadata": {},
   "outputs": [],
   "source": [
    "df = pd.DataFrame(results).drop(['features'],axis=1)\n",
    "df_max3 = df.sort_values(['feature_name', 'test_score'], ascending=[True, False]).groupby('feature_name').head(3)\n",
    "\n",
    "expand_parameters(df_max3)"
   ]
  },
  {
   "cell_type": "code",
   "execution_count": null,
   "id": "794f6b14-d7fe-4f67-b4c0-586365f8d97c",
   "metadata": {},
   "outputs": [],
   "source": [
    "# TODO Why 'log10TE1' 2, 2, 2???"
   ]
  },
  {
   "cell_type": "markdown",
   "id": "08c4ba4e-c6ee-4215-a990-ea32576aad22",
   "metadata": {},
   "source": [
    "Peak scores per dataset:\n",
    "\n",
    "- 'expense': max_depth=6, min_samples_leaf=4 and any min_samples_split\n",
    "\n",
    "- 'log10Expenses1': max_depth=6, min_samples_leaf=9 and any min_samples_split\n",
    "\n",
    "- 'log10Expenses': max_depth=7, min_samples_leaf=7, min_samples_split=3"
   ]
  },
  {
   "cell_type": "code",
   "execution_count": null,
   "id": "3dd96c7c-5dda-43eb-8cb7-70f6d0a61420",
   "metadata": {},
   "outputs": [],
   "source": [
    "df = pd.DataFrame(results).drop(['features'], axis=1)\n",
    "df_sel = df[df['feature_name'].isin(['expenses','log10Expenses','log10Expenses1'])]\n",
    "df_max3 = df_sel.sort_values(['feature_name', 'test_score'], ascending=[True, False]).groupby('feature_name').head(3)\n",
    "\n",
    "expand_parameters(df_max3)"
   ]
  },
  {
   "cell_type": "code",
   "execution_count": null,
   "id": "8f54ebe4-b5dd-46f8-aaf9-887467073258",
   "metadata": {},
   "outputs": [],
   "source": [
    "df = pd.DataFrame(results).drop(['features'], axis=1)\n",
    "df_sel = df[df['feature_name'].isin(['expenses'])]\n",
    "df_max10 = df_sel.sort_values(['test_score'], ascending=[False]).head(10)\n",
    "\n",
    "expand_parameters(df_max10)"
   ]
  },
  {
   "cell_type": "markdown",
   "id": "92cf7310-5cdb-4631-bc28-a1fcec8f58b3",
   "metadata": {},
   "source": [
    "In the previous calculation, some of the best models reached the maximum allowed value for 'min_samples_leaf'. We now test with an extended range for this parameter while reducing the ranges of other hyperparameters to avoid excessive computation time."
   ]
  },
  {
   "cell_type": "code",
   "execution_count": null,
   "id": "5ad837b0-2b6b-411c-ada0-8497a437dde3",
   "metadata": {},
   "outputs": [],
   "source": [
    "# combinations of model to check (algorithm + parameters)\n",
    "dataproc = {'log10Expenses': log10Expenses, 'log10Expenses1': log10Expenses1} \n",
    "experiments = {\n",
    "    'model': ['DecisionTree'],\n",
    "    'algorithms': [DecisionTreeClassifier(criterion='gini')],\n",
    "    'parameters': [{'max_depth': np.arange(5, 8),\n",
    "                    'min_samples_leaf': np.arange(5,15),\n",
    "                    'min_samples_split': np.arange(2,10),\n",
    "                    'splitter': ['best','random']}]\n",
    "}\n",
    "results = run_experiments(dataproc, experiments, X_train, y_train)"
   ]
  },
  {
   "cell_type": "markdown",
   "id": "86f452ac-13c3-4f3c-b38d-37ec7d2f6df5",
   "metadata": {},
   "source": [
    "Similar results has been achieved for new ranges."
   ]
  },
  {
   "cell_type": "code",
   "execution_count": null,
   "id": "650015de-a917-40ce-ae05-4f3462247916",
   "metadata": {},
   "outputs": [],
   "source": [
    "df = pd.DataFrame(results).drop(['features'],axis=1)\n",
    "df_max3 = df.sort_values(['feature_name', 'test_score'], ascending=[True, False]).groupby('feature_name').head(3)\n",
    "expand_parameters(df_max3)"
   ]
  },
  {
   "cell_type": "markdown",
   "id": "6f93a655-b875-4a15-b0ce-635e166f020d",
   "metadata": {},
   "source": [
    "Only 'max_depth' and 'min_samples_leaf' are considered."
   ]
  },
  {
   "cell_type": "code",
   "execution_count": null,
   "id": "a41174ea-07e4-4f6e-a0ab-e05c80de9ec2",
   "metadata": {},
   "outputs": [],
   "source": [
    "# combinations of model to check (algorithm + parameters)\n",
    "dataproc = {'log10Expenses': log10Expenses, 'log10Expenses1': log10Expenses1} \n",
    "experiments = {\n",
    "    'model': ['DecisionTree'],\n",
    "    'algorithms': [DecisionTreeClassifier(criterion='gini')],\n",
    "    'parameters': [{'max_depth': np.arange(5, 8),\n",
    "                    'min_samples_leaf': np.arange(5,15),\n",
    "                    'splitter': ['best','random']}]\n",
    "}\n",
    "results = run_experiments(dataproc, experiments, X_train, y_train)"
   ]
  },
  {
   "cell_type": "markdown",
   "id": "58e6ef24-a953-42c4-940b-8ef5f234aaad",
   "metadata": {},
   "source": [
    "Results are worst than previous ones so three hyperparameters should be considered for the optimization."
   ]
  },
  {
   "cell_type": "code",
   "execution_count": null,
   "id": "4d1d055a-e4ed-4469-9464-520ef3fe830b",
   "metadata": {},
   "outputs": [],
   "source": [
    "df = pd.DataFrame(results).drop(['features'],axis=1)\n",
    "df_max3 = df.sort_values(['feature_name', 'test_score'], ascending=[True, False]).groupby('feature_name').head(3)\n",
    "expand_parameters(df_max3)"
   ]
  },
  {
   "cell_type": "markdown",
   "id": "047767e3-281b-4b3b-9fa8-3930031aad4a",
   "metadata": {},
   "source": [
    "New set of parameters is tested. 'CrySleep' and 'Age12' or 'Age' is also considered with log10Expenses dataset."
   ]
  },
  {
   "cell_type": "code",
   "execution_count": null,
   "id": "30feac73-570c-4952-b434-5b10826f6d92",
   "metadata": {},
   "outputs": [],
   "source": [
    "log10ExpensesCryoSleep = ['CryoSleep_True'] + log10_expenses_features + ['Deck_B','Side_S'] + main_homeplanet + main_destination\n",
    "log10ExpensesCryoSleepAge12 = ['CryoSleep_True','Age12'] + log10_expenses_features + ['Deck_B','Side_S'] + main_homeplanet + main_destination\n",
    "log10ExpensesCryoSleepAge = ['CryoSleep_True','Age'] + log10_expenses_features + ['Deck_B','Side_S'] + main_homeplanet + main_destination"
   ]
  },
  {
   "cell_type": "markdown",
   "id": "2b5a2402-dc7a-4d02-8a95-cd26e0c0111e",
   "metadata": {},
   "source": [
    "'max_depth', 'min_samples_leaf' and 'min_samples_split' are considered. 'splitter' is set to 'random'"
   ]
  },
  {
   "cell_type": "code",
   "execution_count": null,
   "id": "a747e9d7-8ff2-4b51-bcd7-ebe174b523c5",
   "metadata": {},
   "outputs": [],
   "source": [
    "# combinations of model to check (algorithm + parameters)\n",
    "dataproc = {'log10ExpensesCryoSleep': log10ExpensesCryoSleep, \n",
    "            'log10ExpensesCryoSleepAge12': log10ExpensesCryoSleepAge12, \n",
    "            'log10ExpensesCryoSleepAge': log10ExpensesCryoSleepAge} \n",
    "experiments = {\n",
    "    'model': ['DecisionTree'],\n",
    "    'algorithms': [DecisionTreeClassifier(criterion='gini', splitter='random')],\n",
    "    'parameters': [{'max_depth': np.arange(6, 20),\n",
    "                    'min_samples_leaf': np.arange(5,20),\n",
    "                    'min_samples_split': np.arange(5,15)}]\n",
    "}\n",
    "results = run_experiments(dataproc, experiments, X_train, y_train)"
   ]
  },
  {
   "cell_type": "markdown",
   "id": "97604a32-eabc-4e86-aaab-c72bdb8665bd",
   "metadata": {},
   "source": [
    "Better scores are achieved when 'CryoSleep' and 'Age12' is added. 'Age12' has more information than 'Age'. Best model use 'log10ExpensesCryoSleepAge12' dataset and has these hyperparameters:\n",
    "\n",
    "- max_depth = 17\n",
    "- min_samples_leaf = 16\n",
    "- min_samples_split = 10\n",
    "\n",
    "test_score = 0.787"
   ]
  },
  {
   "cell_type": "code",
   "execution_count": null,
   "id": "8bcd776a-c74f-4141-b714-9a622f95e0e7",
   "metadata": {},
   "outputs": [],
   "source": [
    "df = pd.DataFrame(results).drop(['features'],axis=1)\n",
    "df_max3 = df.sort_values(['feature_name', 'test_score'], ascending=[True, False]).groupby('feature_name').head(3)\n",
    "expand_parameters(df_max3)"
   ]
  },
  {
   "cell_type": "code",
   "execution_count": null,
   "id": "0f9058fd-7c60-4625-a1a4-82416b2e1f22",
   "metadata": {},
   "outputs": [],
   "source": [
    "# TODO list of list of parameters --> All combinations from list of list minimum with two parameters"
   ]
  },
  {
   "cell_type": "code",
   "execution_count": 21,
   "id": "05cef903-b7e6-48d3-880c-10e8b634f9db",
   "metadata": {},
   "outputs": [],
   "source": [
    "# Buils list of list with features to combine\n",
    "# TODO Could this be improved?\n",
    "onehot_homeplanet = (list(filter(lambda x: any(map(lambda y: y in x,['HomePlanet_'])), df_train.columns)))\n",
    "main_homeplanet = list(filter(lambda x: any(map(lambda y: y not in x, ['Mars'])),onehot_homeplanet))\n",
    "onehot_destination = (list(filter(lambda x: any(map(lambda y: y in x,['Destination_'])), df_train.columns)))\n",
    "main_destination = list(filter(lambda x: any(map(lambda y: y not in x, ['PSO'])),onehot_destination))\n",
    "onehot_deck = (list(filter(lambda x: any(map(lambda y: y in x,['Deck_'])), df_train.columns)))\n",
    "expenses_features = ['RoomService', 'FoodCourt', 'ShoppingMall', 'Spa', 'VRDeck']\n",
    "log10_expenses_features = ['log10_RoomService', 'log10_FoodCourt', 'log10_ShoppingMall', 'log10_Spa', 'log10_VRDeck']\n",
    "log10_expenses_features1 = ['log10_RoomService1', 'log10_FoodCourt1', 'log10_ShoppingMall1', 'log10_Spa1', 'log10_VRDeck1']\n",
    "\n",
    "list_of_features = [['Age','Age12'], \n",
    "                    ['CryoSleep'], \n",
    "                    ['Side_S'], \n",
    "                    [expenses_features, log10_expenses_features, 'log10_TotalExpenses', log10_expenses_features1, 'log10_TotalExpenses1'],\n",
    "                    ['Deck_B',['Deck_B','Deck_C','Deck_E','Deck_F'], onehot_deck],\n",
    "                    [main_homeplanet],\n",
    "                    [main_destination]\n",
    "                   ]"
   ]
  },
  {
   "cell_type": "code",
   "execution_count": 7,
   "id": "6e9dae23-a6e3-40a9-8080-f2fd11b4a740",
   "metadata": {},
   "outputs": [
    {
     "name": "stdout",
     "output_type": "stream",
     "text": [
      "Number of datasets to test: 1137\n",
      "\n",
      "Num features: 2 Num comb hyperparam: 686 Execution time: 11.52\n",
      "Num features: 20 Num comb hyperparam: 686 Execution time: 40.14\n"
     ]
    }
   ],
   "source": [
    "# Test with largest list of features and more complicated model to check time and then build test\n",
    "lst_datasets = constrained_combinations(list_of_features)\n",
    "print(f'Number of datasets to test: {len(lst_datasets)}\\n')\n",
    "features_max = list(filter(lambda x: len(x) == max(list(map(len, lst_datasets))), lst_datasets))[1]\n",
    "features_min = list(filter(lambda x: len(x) == min(list(map(len, lst_datasets))), lst_datasets))[1]\n",
    "\n",
    "params = {'max_depth': np.arange(3, 22, 3),\n",
    "          'min_samples_leaf': np.arange(3, 22, 3),\n",
    "          'min_samples_split': np.arange(3, 22, 3),\n",
    "          'splitter': ['random', 'best']}\n",
    "grid = GridSearchCV(DecisionTreeClassifier(criterion='gini'), param_grid = params, \n",
    "                    cv = 5, scoring= 'accuracy', n_jobs = 3)\n",
    "\n",
    "time_min, num_tests_min = time_gridsearch(grid, features_min, X_train, y_train)\n",
    "print(f'Num features: {len(features_min)} Num comb hyperparam: {num_tests_min} Execution time: {time_min:.2f}')\n",
    "time_max, num_tests_max = time_gridsearch(grid, features_max, X_train, y_train)\n",
    "print(f'Num features: {len(features_max)} Num comb hyperparam: {num_tests_max} Execution time: {time_max:.2f}')"
   ]
  },
  {
   "cell_type": "code",
   "execution_count": null,
   "id": "fb3d3ba8-fb77-435e-9727-d96221d2ef04",
   "metadata": {},
   "outputs": [
    {
     "name": "stderr",
     "output_type": "stream",
     "text": [
      "Datasets analysis:   0%|                                                                                                     | 0/1137 [00:00<?, ?it/s]"
     ]
    }
   ],
   "source": [
    "# combinations of model to check (algorithm + parameters)\n",
    "#lst_datasets_sel = lst_datasets[:3]\n",
    "dict_datasets = {f'dataset{i+1}': lst for i, lst in enumerate(lst_datasets)}\n",
    "#dict_datasets = {f'dataset{i+1}': lst for i, lst in enumerate(lst_datasets_sel)}\n",
    "experiments = {\n",
    "    'model': ['DecisionTree'],\n",
    "    'algorithms': [DecisionTreeClassifier(criterion='gini')],\n",
    "    'parameters': [{'max_depth': np.arange(3, 22, 3),\n",
    "                    'min_samples_leaf': np.arange(3, 22, 3),\n",
    "                    'min_samples_split': np.arange(3, 22, 3),\n",
    "                    'splitter': ['random', 'best']}]\n",
    "}\n",
    "results = run_experiments(dict_datasets, experiments, X_train, y_train, scoring = 'accuracy', n_jobs = 2)"
   ]
  },
  {
   "cell_type": "code",
   "execution_count": 12,
   "id": "a1924c24-b6d8-4c2d-9795-dd178ee406d8",
   "metadata": {},
   "outputs": [
    {
     "name": "stdout",
     "output_type": "stream",
     "text": [
      "Wrote preprocessed data to cache file: resultGridSearch.pkl\n"
     ]
    }
   ],
   "source": [
    "cache_data = dict(results_gridsearch=results)\n",
    "cache_file = \"resultGridSearch.pkl\"\n",
    "cache_dir = \"cache\"\n",
    "with open(os.path.join(cache_dir, cache_file), \"wb\") as f:\n",
    "        pickle.dump(cache_data, f)\n",
    "print(\"Wrote preprocessed data to cache file:\", cache_file)"
   ]
  },
  {
   "cell_type": "code",
   "execution_count": 14,
   "id": "77f2de41-fa25-4653-a6dd-6a643333c15c",
   "metadata": {},
   "outputs": [
    {
     "name": "stdout",
     "output_type": "stream",
     "text": [
      "Read preprocessed data from cache file: resultGridSearch.pkl\n"
     ]
    }
   ],
   "source": [
    "cache_file = \"resultGridSearch.pkl\"\n",
    "cache_dir = \"cache\"\n",
    "try:\n",
    "    with open(os.path.join(cache_dir, cache_file), \"rb\") as f:\n",
    "        cache_data = pickle.load(f)\n",
    "    print(\"Read preprocessed data from cache file:\", cache_file)\n",
    "except:\n",
    "    pass"
   ]
  },
  {
   "cell_type": "code",
   "execution_count": 15,
   "id": "b628241d-a6ed-4612-a478-fc3ed0021160",
   "metadata": {
    "scrolled": true
   },
   "outputs": [],
   "source": [
    "results = cache_data['results_gridsearch']"
   ]
  },
  {
   "cell_type": "code",
   "execution_count": 16,
   "id": "32ed649e-3c09-4b78-80b5-118f2f6557f9",
   "metadata": {},
   "outputs": [
    {
     "data": {
      "text/html": [
       "<div>\n",
       "<style scoped>\n",
       "    .dataframe tbody tr th:only-of-type {\n",
       "        vertical-align: middle;\n",
       "    }\n",
       "\n",
       "    .dataframe tbody tr th {\n",
       "        vertical-align: top;\n",
       "    }\n",
       "\n",
       "    .dataframe thead th {\n",
       "        text-align: right;\n",
       "    }\n",
       "</style>\n",
       "<table border=\"1\" class=\"dataframe\">\n",
       "  <thead>\n",
       "    <tr style=\"text-align: right;\">\n",
       "      <th></th>\n",
       "      <th>feature_name</th>\n",
       "      <th>model</th>\n",
       "      <th>train_score</th>\n",
       "      <th>test_score</th>\n",
       "      <th>fit_time</th>\n",
       "      <th>max_depth</th>\n",
       "      <th>min_samples_leaf</th>\n",
       "      <th>min_samples_split</th>\n",
       "      <th>splitter</th>\n",
       "    </tr>\n",
       "  </thead>\n",
       "  <tbody>\n",
       "    <tr>\n",
       "      <th>640</th>\n",
       "      <td>dataset1</td>\n",
       "      <td>DecisionTree</td>\n",
       "      <td>0.798804</td>\n",
       "      <td>0.778560</td>\n",
       "      <td>0.014810</td>\n",
       "      <td>21</td>\n",
       "      <td>12</td>\n",
       "      <td>18</td>\n",
       "      <td>random</td>\n",
       "    </tr>\n",
       "    <tr>\n",
       "      <th>658</th>\n",
       "      <td>dataset1</td>\n",
       "      <td>DecisionTree</td>\n",
       "      <td>0.795180</td>\n",
       "      <td>0.778445</td>\n",
       "      <td>0.015417</td>\n",
       "      <td>21</td>\n",
       "      <td>18</td>\n",
       "      <td>3</td>\n",
       "      <td>random</td>\n",
       "    </tr>\n",
       "    <tr>\n",
       "      <th>538</th>\n",
       "      <td>dataset1</td>\n",
       "      <td>DecisionTree</td>\n",
       "      <td>0.797193</td>\n",
       "      <td>0.778214</td>\n",
       "      <td>0.020238</td>\n",
       "      <td>18</td>\n",
       "      <td>12</td>\n",
       "      <td>12</td>\n",
       "      <td>random</td>\n",
       "    </tr>\n",
       "    <tr>\n",
       "      <th>1258</th>\n",
       "      <td>dataset2</td>\n",
       "      <td>DecisionTree</td>\n",
       "      <td>0.789572</td>\n",
       "      <td>0.780515</td>\n",
       "      <td>0.012517</td>\n",
       "      <td>18</td>\n",
       "      <td>18</td>\n",
       "      <td>21</td>\n",
       "      <td>random</td>\n",
       "    </tr>\n",
       "    <tr>\n",
       "      <th>1094</th>\n",
       "      <td>dataset2</td>\n",
       "      <td>DecisionTree</td>\n",
       "      <td>0.801133</td>\n",
       "      <td>0.779940</td>\n",
       "      <td>0.012460</td>\n",
       "      <td>15</td>\n",
       "      <td>6</td>\n",
       "      <td>6</td>\n",
       "      <td>random</td>\n",
       "    </tr>\n",
       "    <tr>\n",
       "      <th>1122</th>\n",
       "      <td>dataset2</td>\n",
       "      <td>DecisionTree</td>\n",
       "      <td>0.790895</td>\n",
       "      <td>0.779826</td>\n",
       "      <td>0.013573</td>\n",
       "      <td>15</td>\n",
       "      <td>12</td>\n",
       "      <td>6</td>\n",
       "      <td>random</td>\n",
       "    </tr>\n",
       "    <tr>\n",
       "      <th>1696</th>\n",
       "      <td>dataset3</td>\n",
       "      <td>DecisionTree</td>\n",
       "      <td>0.785949</td>\n",
       "      <td>0.777524</td>\n",
       "      <td>0.012600</td>\n",
       "      <td>12</td>\n",
       "      <td>9</td>\n",
       "      <td>6</td>\n",
       "      <td>random</td>\n",
       "    </tr>\n",
       "    <tr>\n",
       "      <th>1800</th>\n",
       "      <td>dataset3</td>\n",
       "      <td>DecisionTree</td>\n",
       "      <td>0.793944</td>\n",
       "      <td>0.776375</td>\n",
       "      <td>0.013628</td>\n",
       "      <td>15</td>\n",
       "      <td>9</td>\n",
       "      <td>15</td>\n",
       "      <td>random</td>\n",
       "    </tr>\n",
       "    <tr>\n",
       "      <th>2026</th>\n",
       "      <td>dataset3</td>\n",
       "      <td>DecisionTree</td>\n",
       "      <td>0.791183</td>\n",
       "      <td>0.775799</td>\n",
       "      <td>0.013011</td>\n",
       "      <td>21</td>\n",
       "      <td>15</td>\n",
       "      <td>18</td>\n",
       "      <td>random</td>\n",
       "    </tr>\n",
       "  </tbody>\n",
       "</table>\n",
       "</div>"
      ],
      "text/plain": [
       "     feature_name         model  train_score  test_score  fit_time  max_depth  \\\n",
       "640      dataset1  DecisionTree     0.798804    0.778560  0.014810         21   \n",
       "658      dataset1  DecisionTree     0.795180    0.778445  0.015417         21   \n",
       "538      dataset1  DecisionTree     0.797193    0.778214  0.020238         18   \n",
       "1258     dataset2  DecisionTree     0.789572    0.780515  0.012517         18   \n",
       "1094     dataset2  DecisionTree     0.801133    0.779940  0.012460         15   \n",
       "1122     dataset2  DecisionTree     0.790895    0.779826  0.013573         15   \n",
       "1696     dataset3  DecisionTree     0.785949    0.777524  0.012600         12   \n",
       "1800     dataset3  DecisionTree     0.793944    0.776375  0.013628         15   \n",
       "2026     dataset3  DecisionTree     0.791183    0.775799  0.013011         21   \n",
       "\n",
       "      min_samples_leaf  min_samples_split splitter  \n",
       "640                 12                 18   random  \n",
       "658                 18                  3   random  \n",
       "538                 12                 12   random  \n",
       "1258                18                 21   random  \n",
       "1094                 6                  6   random  \n",
       "1122                12                  6   random  \n",
       "1696                 9                  6   random  \n",
       "1800                 9                 15   random  \n",
       "2026                15                 18   random  "
      ]
     },
     "execution_count": 16,
     "metadata": {},
     "output_type": "execute_result"
    }
   ],
   "source": [
    "df = pd.DataFrame(results).drop(['features'],axis=1)\n",
    "df_max3 = df.sort_values(['feature_name', 'test_score'], ascending=[True, False]).groupby('feature_name').head(3)\n",
    "expand_parameters(df_max3)"
   ]
  },
  {
   "cell_type": "code",
   "execution_count": 11,
   "id": "654cbd8c-8539-456d-befa-49bf34a33161",
   "metadata": {},
   "outputs": [],
   "source": [
    "# TODO Save results\n",
    "# TODO Implement best parameter\n",
    "# TODO Video Imputation Kaggle\n",
    "# TODO Random Forest\n",
    "# TODO Feature importance\n",
    "# TODO Boosted Tree sklearn\n",
    "# TODO XGBoost\n",
    "# TODO HistGradienteBoostingClassifier"
   ]
  },
  {
   "cell_type": "code",
   "execution_count": null,
   "id": "321c4961-0663-48e7-a4cf-6621fd04b32d",
   "metadata": {},
   "outputs": [],
   "source": []
  },
  {
   "cell_type": "code",
   "execution_count": null,
   "id": "790aa0a8-efb2-4b66-b513-6a5a8a235cb6",
   "metadata": {},
   "outputs": [],
   "source": []
  },
  {
   "cell_type": "code",
   "execution_count": 57,
   "id": "ba1622d5-9bd3-41af-9434-bb76d18fa0ab",
   "metadata": {},
   "outputs": [
    {
     "name": "stdout",
     "output_type": "stream",
     "text": [
      "features: ['RoomService', 'FoodCourt', 'ShoppingMall', 'Spa', 'VRDeck', 'Destination_55 Cancri e', 'Destination_PSO J318.5-22', 'Destination_TRAPPIST-1e', 'HomePlanet_Earth', 'HomePlanet_Europa', 'HomePlanet_Mars', 'CryoSleep_True']\n",
      "algorithm: DecisionTreeClassifier(splitter='random')\n",
      "parameters: {'max_depth': 10, 'min_samples_split': 2, 'min_samples_leaf': 4}\n",
      "acc_val: 0.7839655609383592\n"
     ]
    }
   ],
   "source": [
    "best_model = pd.DataFrame(results).sort_values('acc_val', ascending=False).iloc[0,:].to_dict()\n",
    "for key, value in best_model.items():\n",
    "    print(f'{key}: {value}')"
   ]
  },
  {
   "cell_type": "code",
   "execution_count": null,
   "id": "be970494-7b5d-440d-941e-ac18552b273a",
   "metadata": {},
   "outputs": [],
   "source": []
  },
  {
   "cell_type": "code",
   "execution_count": null,
   "id": "cf75076e-d9f7-49c1-8ee3-438b4feddc13",
   "metadata": {},
   "outputs": [],
   "source": []
  }
 ],
 "metadata": {
  "kernelspec": {
   "display_name": "Python 3 (ipykernel)",
   "language": "python",
   "name": "python3"
  },
  "language_info": {
   "codemirror_mode": {
    "name": "ipython",
    "version": 3
   },
   "file_extension": ".py",
   "mimetype": "text/x-python",
   "name": "python",
   "nbconvert_exporter": "python",
   "pygments_lexer": "ipython3",
   "version": "3.10.18"
  }
 },
 "nbformat": 4,
 "nbformat_minor": 5
}
